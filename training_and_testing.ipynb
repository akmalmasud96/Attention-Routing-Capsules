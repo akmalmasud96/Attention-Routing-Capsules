{
 "cells": [
  {
   "cell_type": "code",
   "execution_count": 1,
   "metadata": {
    "ExecuteTime": {
     "end_time": "2020-08-14T09:54:36.301989Z",
     "start_time": "2020-08-14T09:54:35.203989Z"
    },
    "colab": {},
    "colab_type": "code",
    "id": "U9Ub9a6We9hc"
   },
   "outputs": [],
   "source": [
    "import torch\n",
    "import torch.nn as nn\n",
    "import torch.optim as optim\n",
    "from torch.autograd import Variable\n",
    "from torchvision import datasets, transforms\n",
    "import torch.nn.functional as F\n",
    "from sklearn.model_selection import train_test_split\n",
    "from torch.optim import Adam, lr_scheduler\n",
    "from Capsule_Layers import *\n",
    "from CIFAR_Architecture import *\n",
    "from MNIST_Architecture import *\n",
    "\n",
    "\n",
    "import matplotlib.pyplot as plt\n",
    "import torch \n",
    "import torchvision\n",
    "import torchvision.transforms as transforms\n",
    "from torch.utils.data import TensorDataset, DataLoader\n",
    "import torchvision.transforms.functional as TransF\n",
    "\n",
    "import warnings\n",
    "warnings.filterwarnings(\"ignore\")"
   ]
  },
  {
   "cell_type": "code",
   "execution_count": 2,
   "metadata": {
    "ExecuteTime": {
     "end_time": "2020-08-14T09:54:36.306869Z",
     "start_time": "2020-08-14T09:54:36.302965Z"
    },
    "colab": {},
    "colab_type": "code",
    "id": "j7OJ3jLkYeWy"
   },
   "outputs": [],
   "source": [
    "try:\n",
    "  del model\n",
    "except:\n",
    "  pass"
   ]
  },
  {
   "cell_type": "code",
   "execution_count": 4,
   "metadata": {
    "ExecuteTime": {
     "end_time": "2020-08-14T09:54:39.432668Z",
     "start_time": "2020-08-14T09:54:38.796943Z"
    },
    "colab": {
     "base_uri": "https://localhost:8080/",
     "height": 381,
     "referenced_widgets": [
      "6d8ff4b544b64a86a303a791b7e5b290",
      "19ad1601fcb6473e85b49cffe03ae2a6",
      "2576a04369f241959b413bd00786687c",
      "02817fd86211447985d12b7e1cf4fa7f",
      "89f42c6b1d2a481bbb9b14d25fe42504",
      "280a2552aa4f40adb77528096bb21142",
      "7d35291c7ae046baa7b931abb6c65e51",
      "948b53a732824f8c88784580e74948e2",
      "2a4ed82ec3b14dd5aeaaf31696d4c089",
      "23b43c0934ed4ef4b97dbc8c2ef27068",
      "8ce83ed2cc274d5890a80a150376282e",
      "9740d12401d64a4c83014652e012fbf5",
      "e0e816429c7c4781b797ae78d4dced9b",
      "ea44d9bbb90b44dc8474011a5520d338",
      "dbd76951fa5143d09c3172fbb6c3166e",
      "2b468008e4344f89b14d0a41ef1c14c6",
      "f115e9cb93cc49f5a065632cda661157",
      "c6a2b1e2c6cc4abd827f7f1fa05d554c",
      "8cab1d55ae5f4ef58d3f9c052954069b",
      "b8b4bc0ac8724c7da9738ae010c84cf3",
      "b7e1e67db68040d7b642732dd1945330",
      "037b8dd61e6e423bbebf7f416cb1d4d0",
      "d25ae3adf8c146ebb035854cf4b61698",
      "0436952541624fd3b3929cd57e30b16c",
      "f6b0227213644a9ab6f4792d607c5d04",
      "79ba276040f74fc380e55c7bbec70ed9",
      "00c51ace5138486ba01b627db0c3150d",
      "434c06f07cb347fd93f66f6d6126f1fd",
      "867d6507cc5e415994ecc5bf4ed05834",
      "fe5a9f55cbb549a8b2462074a9625380",
      "8b8dcaad2e9a4403b5b483f4272e4525",
      "3d58b4c672a947f8888dc764d31c61e7"
     ]
    },
    "colab_type": "code",
    "id": "zYi_N_pArBpz",
    "outputId": "8d187163-667c-445c-e858-9f5e2c3414ea"
   },
   "outputs": [
    {
     "name": "stdout",
     "output_type": "stream",
     "text": [
      "Press 1 for MNIST \n",
      " press 2 for CIFAR\n",
      "1\n"
     ]
    }
   ],
   "source": [
    "#\n",
    "# Load dataset.\n",
    "#\n",
    "batch_size = 120\n",
    "test_batch_size = 120\n",
    "# Normalization for MNIST dataset.\n",
    "train_transform = transforms.Compose(\n",
    "                        [transforms.RandomHorizontalFlip(),\n",
    "                        transforms.ToTensor(),\n",
    "                        ])\n",
    "\n",
    "test_transform = transforms.Compose(\n",
    "                        [transforms.RandomHorizontalFlip(),\n",
    "                        transforms.ToTensor(),\n",
    "                        ])\n",
    "\n",
    "\n",
    "var_for_input = input('Press 1 for MNIST \\n press 2 for CIFAR\\n')\n",
    "var_for_input = int(var_for_input)\n",
    "if var_for_input == 1:\n",
    "  trainset = torchvision.datasets.MNIST(root='./data', train=True, download=True, transform=train_transform)\n",
    "elif var_for_input ==2:\n",
    "  trainset = torchvision.datasets.CIFAR10(root='./data', train=True, download=True, transform=train_transform)"
   ]
  },
  {
   "cell_type": "code",
   "execution_count": 5,
   "metadata": {
    "ExecuteTime": {
     "end_time": "2020-08-14T09:54:40.146127Z",
     "start_time": "2020-08-14T09:54:40.141261Z"
    },
    "colab": {},
    "colab_type": "code",
    "id": "2RVC39MIcWRc"
   },
   "outputs": [],
   "source": [
    "#Dataloader is a built-in PyTorch module that helps in easy and clean loading of datasets\n",
    "trainloader = torch.utils.data.DataLoader(trainset, batch_size=batch_size, shuffle=True, num_workers=4)"
   ]
  },
  {
   "cell_type": "code",
   "execution_count": 6,
   "metadata": {
    "ExecuteTime": {
     "end_time": "2020-08-14T09:54:40.589199Z",
     "start_time": "2020-08-14T09:54:40.579474Z"
    },
    "colab": {},
    "colab_type": "code",
    "id": "OA37aWdCcZJr"
   },
   "outputs": [],
   "source": [
    "if var_for_input == 2:\n",
    "  testset = torchvision.datasets.CIFAR10(root='./data', train=False, \n",
    "                                         download=True, transform=test_transform)\n",
    "\n",
    "  testloader = torch.utils.data.DataLoader(testset, batch_size=batch_size, \n",
    "                                           shuffle=True, num_workers=4)\n",
    "\n",
    "  classes = ('plane', 'car', 'bird', 'cat',\n",
    "             'deer', 'dog', 'frog', 'horse', 'ship', 'truck')\n",
    "elif var_for_input == 1:\n",
    "  testset = torchvision.datasets.MNIST(root='./data', train=False, \n",
    "                                         download=True, transform=test_transform)\n",
    "\n",
    "  testloader = torch.utils.data.DataLoader(testset, batch_size=batch_size, \n",
    "                                           shuffle=True, num_workers=4)\n",
    "\n",
    "  classes = ('0', '1', '2', '3',\n",
    "             '4', '5', '6', '7', '8', '9')"
   ]
  },
  {
   "cell_type": "code",
   "execution_count": 7,
   "metadata": {
    "ExecuteTime": {
     "end_time": "2020-08-14T09:54:41.986019Z",
     "start_time": "2020-08-14T09:54:41.063700Z"
    },
    "colab": {
     "base_uri": "https://localhost:8080/",
     "height": 295
    },
    "colab_type": "code",
    "id": "8mE6ic_SjGA8",
    "outputId": "a10c226d-e215-4403-b8e5-7df20d068d96"
   },
   "outputs": [
    {
     "data": {
      "text/plain": [
       "<function matplotlib.pyplot.show(*args, **kw)>"
      ]
     },
     "execution_count": 7,
     "metadata": {},
     "output_type": "execute_result"
    },
    {
     "data": {
      "image/png": "[encoded data removed]",
      "text/plain": [
       "<Figure size 432x288 with 1 Axes>"
      ]
     },
     "metadata": {
      "needs_background": "light"
     },
     "output_type": "display_data"
    }
   ],
   "source": [
    "\n",
    "# Images in 2x2 grid\n",
    "inputs, labels = next(iter(trainloader))\n",
    "images = torchvision.utils.make_grid(inputs[:2], nrow=2)\n",
    "\n",
    "images = images.numpy().transpose((1, 2, 0))\n",
    "\n",
    "plt.imshow(images)\n",
    "plt.show"
   ]
  },
  {
   "cell_type": "code",
   "execution_count": 8,
   "metadata": {
    "ExecuteTime": {
     "end_time": "2020-08-14T09:54:42.764903Z",
     "start_time": "2020-08-14T09:54:41.986995Z"
    },
    "colab": {},
    "colab_type": "code",
    "id": "FJhsTn0ZrenR"
   },
   "outputs": [],
   "source": [
    "inputs, labels = next(iter(testloader))"
   ]
  },
  {
   "cell_type": "code",
   "execution_count": 9,
   "metadata": {
    "ExecuteTime": {
     "end_time": "2020-08-14T09:54:42.769773Z",
     "start_time": "2020-08-14T09:54:42.765844Z"
    },
    "colab": {
     "base_uri": "https://localhost:8080/",
     "height": 35
    },
    "colab_type": "code",
    "id": "4wtiDQYVuy0O",
    "outputId": "2eab4080-1ede-441b-f2f1-b51a5c6fdc96"
   },
   "outputs": [
    {
     "data": {
      "text/plain": [
       "torch.Size([120, 1, 28, 28])"
      ]
     },
     "execution_count": 9,
     "metadata": {},
     "output_type": "execute_result"
    }
   ],
   "source": [
    "inputs.shape"
   ]
  },
  {
   "cell_type": "code",
   "execution_count": 10,
   "metadata": {
    "ExecuteTime": {
     "end_time": "2020-08-14T09:54:43.741615Z",
     "start_time": "2020-08-14T09:54:42.770724Z"
    },
    "colab": {},
    "colab_type": "code",
    "id": "lPHwe5RmOHyD"
   },
   "outputs": [],
   "source": [
    "class args:\n",
    "    epochs=50\n",
    "    debug=0\n",
    "    save_dir='checkpoints'\n",
    "    augment='False'\n",
    "    dataset='mnist'\n",
    "    layernum=0\n",
    "    dimcaps=16\n",
    "    validratio=1\n",
    "    shift_fraction=0.1\n",
    "    lr = 0.001\n",
    "    lr_decay =0.9\n",
    "    lam_recon=0.0005* inputs.shape[2]*inputs.shape[3]\n",
    "    use_reconstruction_loss = True\n",
    "args= args()\n",
    "device = torch.device(\"cuda:0\" if torch.cuda.is_available() else \"cpu\")"
   ]
  },
  {
   "cell_type": "code",
   "execution_count": 11,
   "metadata": {
    "ExecuteTime": {
     "end_time": "2020-08-14T09:54:43.786538Z",
     "start_time": "2020-08-14T09:54:43.742592Z"
    },
    "colab": {},
    "colab_type": "code",
    "id": "SM1kQw8otPoG"
   },
   "outputs": [],
   "source": [
    "if var_for_input == 1:\n",
    "  model = Net(inputs.shape,args)\n",
    "elif var_for_input == 2:\n",
    "  model = AR_CapsNet_CIFAR(inputs.shape,args)"
   ]
  },
  {
   "cell_type": "code",
   "execution_count": 12,
   "metadata": {
    "ExecuteTime": {
     "end_time": "2020-08-14T09:54:43.791415Z",
     "start_time": "2020-08-14T09:54:43.788464Z"
    },
    "colab": {
     "base_uri": "https://localhost:8080/",
     "height": 563
    },
    "colab_type": "code",
    "id": "dHo3yE_7aPjU",
    "outputId": "b6ef6b80-d327-4942-f1de-25bf8c8c3e11"
   },
   "outputs": [
    {
     "name": "stdout",
     "output_type": "stream",
     "text": [
      "Net(\n",
      "  (BN1): Conv2d_bn(\n",
      "    (layer): Sequential(\n",
      "      (Conv1): Conv2d(1, 64, kernel_size=(3, 3), stride=(1, 1), padding=(1, 1))\n",
      "      (BN1): BatchNorm2d(64, eps=1e-05, momentum=0.1, affine=True, track_running_stats=True)\n",
      "      (Relu1): ReLU()\n",
      "    )\n",
      "  )\n",
      "  (BN2): Conv2d_bn(\n",
      "    (layer): Sequential(\n",
      "      (Conv1): Conv2d(64, 64, kernel_size=(3, 3), stride=(1, 1), padding=(1, 1))\n",
      "      (BN1): BatchNorm2d(64, eps=1e-05, momentum=0.1, affine=True, track_running_stats=True)\n",
      "      (Relu1): ReLU()\n",
      "    )\n",
      "  )\n",
      "  (Primary_Cap): PrimaryCap()\n",
      "  (FullyConvCaps): FullyConvCaps()\n",
      "  (decoder): Decoder(\n",
      "    (layer): Sequential(\n",
      "      (0): Linear(in_features=160, out_features=512, bias=True)\n",
      "      (1): ReLU(inplace)\n",
      "      (2): Linear(in_features=512, out_features=1024, bias=True)\n",
      "      (3): ReLU(inplace)\n",
      "      (4): Linear(in_features=1024, out_features=784, bias=True)\n",
      "      (5): Sigmoid()\n",
      "    )\n",
      "  )\n",
      "  (tanh): Tanh()\n",
      ")\n"
     ]
    }
   ],
   "source": [
    "print(model)"
   ]
  },
  {
   "cell_type": "code",
   "execution_count": 13,
   "metadata": {
    "ExecuteTime": {
     "end_time": "2020-08-14T09:54:45.821471Z",
     "start_time": "2020-08-14T09:54:43.792367Z"
    },
    "colab": {
     "base_uri": "https://localhost:8080/",
     "height": 526
    },
    "colab_type": "code",
    "id": "c1ePVyU3EITN",
    "outputId": "13d5ecbc-b241-4c47-d510-32b9d3ab4256"
   },
   "outputs": [
    {
     "name": "stdout",
     "output_type": "stream",
     "text": [
      "BN1.layer.Conv1.weight \t\t torch.Size([64, 1, 3, 3])\n",
      "BN1.layer.Conv1.bias \t\t torch.Size([64])\n",
      "BN1.layer.BN1.weight \t\t torch.Size([64])\n",
      "BN1.layer.BN1.bias \t\t torch.Size([64])\n",
      "BN2.layer.Conv1.weight \t\t torch.Size([64, 64, 3, 3])\n",
      "BN2.layer.Conv1.bias \t\t torch.Size([64])\n",
      "BN2.layer.BN1.weight \t\t torch.Size([64])\n",
      "BN2.layer.BN1.bias \t\t torch.Size([64])\n",
      "Primary_Cap.convW_1 \t\t torch.Size([128, 64, 3, 3])\n",
      "Primary_Cap.bias_1 \t\t torch.Size([128])\n",
      "Primary_Cap.CapsAct_W \t\t torch.Size([128, 16, 1, 1])\n",
      "Primary_Cap.CapsAct_B \t\t torch.Size([128])\n",
      "FullyConvCaps.Att_W \t\t torch.Size([80, 8, 16, 1, 1])\n",
      "FullyConvCaps.ConvTrans_W \t\t torch.Size([1280, 16, 14, 14])\n",
      "FullyConvCaps.ConvTrans_B \t\t torch.Size([1280])\n",
      "FullyConvCaps.CapsAct_W \t\t torch.Size([160, 16, 1, 1])\n",
      "FullyConvCaps.CapsAct_B \t\t torch.Size([160])\n",
      "decoder.layer.0.weight \t\t torch.Size([512, 160])\n",
      "decoder.layer.0.bias \t\t torch.Size([512])\n",
      "decoder.layer.2.weight \t\t torch.Size([1024, 512])\n",
      "decoder.layer.2.bias \t\t torch.Size([1024])\n",
      "decoder.layer.4.weight \t\t torch.Size([784, 1024])\n",
      "decoder.layer.4.bias \t\t torch.Size([784])\n"
     ]
    }
   ],
   "source": [
    "for name, param in model.named_parameters():\n",
    "    namae = param.to(device)\n",
    "    print(name, '\\t\\t', param.shape)"
   ]
  },
  {
   "cell_type": "code",
   "execution_count": 14,
   "metadata": {
    "ExecuteTime": {
     "end_time": "2020-08-14T09:54:45.837086Z",
     "start_time": "2020-08-14T09:54:45.822447Z"
    },
    "colab": {},
    "colab_type": "code",
    "id": "ftv6P-i3NuQ2"
   },
   "outputs": [],
   "source": [
    "model = model.to(device)"
   ]
  },
  {
   "cell_type": "code",
   "execution_count": 15,
   "metadata": {
    "ExecuteTime": {
     "end_time": "2020-08-14T09:54:45.844929Z",
     "start_time": "2020-08-14T09:54:45.838063Z"
    },
    "colab": {},
    "colab_type": "code",
    "id": "eLykpBd5TvDo"
   },
   "outputs": [],
   "source": [
    "def test(model, test_loader, args):\n",
    "    model.eval()\n",
    "    test_loss = 0\n",
    "    correct = 0\n",
    "    for x, y in test_loader:\n",
    "        y = y.type(torch.int64)\n",
    "        y = torch.zeros(y.size(0), 10).scatter_(1, y.view(-1, 1), 1.)\n",
    "        x, y = Variable(x.to(device), volatile=True), Variable(y.to(device))\n",
    "        y_pred = model(x)\n",
    "        test_loss += model.caps_loss(y, y_pred, x, args.lam_recon).item() * x.size(0)  # sum up batch loss\n",
    "        y_pred = y_pred.norm(dim=-1)\n",
    "        y_pred = y_pred.data.max(1)[1]\n",
    "        y_true = y.data.max(1)[1]\n",
    "        correct += y_pred.eq(y_true).cpu().sum()\n",
    "\n",
    "    test_loss /= len(test_loader.dataset)\n",
    "    return test_loss, int(correct) / int(len(test_loader.dataset))"
   ]
  },
  {
   "cell_type": "code",
   "execution_count": 16,
   "metadata": {
    "ExecuteTime": {
     "end_time": "2020-08-14T09:54:45.857607Z",
     "start_time": "2020-08-14T09:54:45.846846Z"
    },
    "colab": {},
    "colab_type": "code",
    "id": "Lw2XWFFmEaxP"
   },
   "outputs": [],
   "source": [
    "def train(model, train_loader, test_loader, args):\n",
    "    \"\"\"\n",
    "    Training a CapsuleNet\n",
    "    :param model: the CapsuleNet model\n",
    "    :param train_loader: torch.utils.data.DataLoader for training data\n",
    "    :param test_loader: torch.utils.data.DataLoader for test data\n",
    "    :param args: arguments\n",
    "    \"\"\"\n",
    "    print('Begin Training' + '-'*70)\n",
    "    from time import time\n",
    "    import csv\n",
    "    logfile = open(args.save_dir + '/log.csv', 'w')\n",
    "    logwriter = csv.DictWriter(logfile, fieldnames=['epoch', 'loss', 'val_loss', 'val_acc'])\n",
    "    logwriter.writeheader()\n",
    "\n",
    "    t0 = time()\n",
    "    optimizer = Adam(model.parameters(), lr=args.lr)\n",
    "    lr_decay = lr_scheduler.ExponentialLR(optimizer, gamma=args.lr_decay)\n",
    "    best_val_acc = 0.\n",
    "    for epoch in range(args.epochs):\n",
    "        model.train()  # set to training mode\n",
    "        lr_decay.step()  # decrease the learning rate by multiplying a factor `gamma`\n",
    "        ti = time()\n",
    "        training_loss = 0.0\n",
    "        for i, (x, y) in enumerate(train_loader):  # batch training\n",
    "            \n",
    "            y = y.type(torch.int64)\n",
    "            y = torch.zeros(y.size(0), 10).scatter_(1, y.view(-1, 1), 1.)  # change to one-hot coding\n",
    "            \n",
    "            x, y = Variable(x.to(device)), Variable(y.to(device))  # convert input data to GPU Variable\n",
    "\n",
    "\n",
    "            optimizer.zero_grad()  # set gradients of optimizer to zero\n",
    "            \n",
    "            # x, y = Variable(x), Variable(y)\n",
    "            # x = x.to(device)\n",
    "            y_pred= model(x)  # forward\n",
    "            loss = model.caps_loss(y, y_pred, x, args.lam_recon)  # compute loss\n",
    "            loss.backward()  # backward, compute all gradients of loss w.r.t all Variables\n",
    "            training_loss += loss.item() * x.size(0)  # record the batch loss\n",
    "            optimizer.step()  # update the trainable parameters with computed gradients\n",
    "\n",
    "        # compute validation loss and acc\n",
    "        val_loss, val_acc = test(model, test_loader, args)\n",
    "        logwriter.writerow(dict(epoch=epoch, loss=training_loss / len(train_loader.dataset),\n",
    "                                val_loss=val_loss, val_acc=val_acc))\n",
    "        print(\"==> Epoch %02d: loss=%.5f, val_loss=%.5f, val_acc=%.4f, time=%ds\"\n",
    "              % (epoch, training_loss / len(train_loader.dataset),\n",
    "                 val_loss, val_acc, time() - ti))\n",
    "        if val_acc > best_val_acc:  # update best validation acc and save model\n",
    "            best_val_acc = val_acc\n",
    "            torch.save(model.state_dict(), args.save_dir + '/epoch%d.pkl' % epoch)\n",
    "            print(\"best val_acc increased to %.4f\" % best_val_acc)\n",
    "    logfile.close()\n",
    "    torch.save(model.state_dict(), args.save_dir + '/trained_model.pkl')\n",
    "    print('Trained model saved to \\'%s/trained_model.h5\\'' % args.save_dir)\n",
    "    print(\"Total time = %ds\" % (time() - t0))\n",
    "    print('End Training' + '-' * 70)"
   ]
  },
  {
   "cell_type": "code",
   "execution_count": 17,
   "metadata": {
    "ExecuteTime": {
     "end_time": "2020-08-14T10:25:15.277220Z",
     "start_time": "2020-08-14T09:54:46.482548Z"
    },
    "colab": {
     "base_uri": "https://localhost:8080/",
     "height": 72
    },
    "colab_type": "code",
    "id": "PwV2P05eFMyN",
    "outputId": "f21f33de-aca6-4e20-db4a-e981dd878400"
   },
   "outputs": [
    {
     "name": "stdout",
     "output_type": "stream",
     "text": [
      "Begin Training----------------------------------------------------------------------\n",
      "==> Epoch 00: loss=0.11323, val_loss=0.04895, val_acc=0.9739, time=36s\n",
      "best val_acc increased to 0.9739\n",
      "==> Epoch 01: loss=0.04368, val_loss=0.03862, val_acc=0.9792, time=35s\n",
      "best val_acc increased to 0.9792\n",
      "==> Epoch 02: loss=0.03419, val_loss=0.03297, val_acc=0.9827, time=35s\n",
      "best val_acc increased to 0.9827\n",
      "==> Epoch 03: loss=0.02917, val_loss=0.03054, val_acc=0.9838, time=35s\n",
      "best val_acc increased to 0.9838\n",
      "==> Epoch 04: loss=0.02576, val_loss=0.02713, val_acc=0.9847, time=35s\n",
      "best val_acc increased to 0.9847\n",
      "==> Epoch 05: loss=0.02335, val_loss=0.02598, val_acc=0.9856, time=36s\n",
      "best val_acc increased to 0.9856\n",
      "==> Epoch 06: loss=0.02124, val_loss=0.02354, val_acc=0.9858, time=35s\n",
      "best val_acc increased to 0.9858\n",
      "==> Epoch 07: loss=0.01960, val_loss=0.02314, val_acc=0.9875, time=36s\n",
      "best val_acc increased to 0.9875\n",
      "==> Epoch 08: loss=0.01827, val_loss=0.02191, val_acc=0.9881, time=36s\n",
      "best val_acc increased to 0.9881\n",
      "==> Epoch 09: loss=0.01717, val_loss=0.02250, val_acc=0.9862, time=35s\n",
      "==> Epoch 10: loss=0.01594, val_loss=0.02081, val_acc=0.9881, time=35s\n",
      "==> Epoch 11: loss=0.01505, val_loss=0.01966, val_acc=0.9895, time=35s\n",
      "best val_acc increased to 0.9895\n",
      "==> Epoch 12: loss=0.01440, val_loss=0.01967, val_acc=0.9886, time=35s\n",
      "==> Epoch 13: loss=0.01360, val_loss=0.01891, val_acc=0.9888, time=35s\n",
      "==> Epoch 14: loss=0.01309, val_loss=0.01880, val_acc=0.9892, time=36s\n",
      "==> Epoch 15: loss=0.01226, val_loss=0.01860, val_acc=0.9899, time=36s\n",
      "best val_acc increased to 0.9899\n",
      "==> Epoch 16: loss=0.01195, val_loss=0.01909, val_acc=0.9898, time=36s\n",
      "==> Epoch 17: loss=0.01152, val_loss=0.01771, val_acc=0.9909, time=36s\n",
      "best val_acc increased to 0.9909\n",
      "==> Epoch 18: loss=0.01125, val_loss=0.01820, val_acc=0.9895, time=36s\n",
      "==> Epoch 19: loss=0.01085, val_loss=0.01778, val_acc=0.9893, time=36s\n",
      "==> Epoch 20: loss=0.01031, val_loss=0.01824, val_acc=0.9899, time=36s\n",
      "==> Epoch 21: loss=0.01017, val_loss=0.01744, val_acc=0.9889, time=37s\n",
      "==> Epoch 22: loss=0.00991, val_loss=0.01776, val_acc=0.9884, time=37s\n",
      "==> Epoch 23: loss=0.00977, val_loss=0.01761, val_acc=0.9892, time=36s\n",
      "==> Epoch 24: loss=0.00962, val_loss=0.01781, val_acc=0.9895, time=36s\n",
      "==> Epoch 25: loss=0.00929, val_loss=0.01680, val_acc=0.9902, time=36s\n",
      "==> Epoch 26: loss=0.00921, val_loss=0.01700, val_acc=0.9899, time=36s\n",
      "==> Epoch 27: loss=0.00915, val_loss=0.01709, val_acc=0.9901, time=36s\n",
      "==> Epoch 28: loss=0.00890, val_loss=0.01721, val_acc=0.9902, time=36s\n",
      "==> Epoch 29: loss=0.00884, val_loss=0.01701, val_acc=0.9899, time=36s\n",
      "==> Epoch 30: loss=0.00878, val_loss=0.01669, val_acc=0.9902, time=36s\n",
      "==> Epoch 31: loss=0.00873, val_loss=0.01739, val_acc=0.9899, time=36s\n",
      "==> Epoch 32: loss=0.00864, val_loss=0.01643, val_acc=0.9909, time=37s\n",
      "==> Epoch 33: loss=0.00864, val_loss=0.01634, val_acc=0.9907, time=36s\n",
      "==> Epoch 34: loss=0.00843, val_loss=0.01675, val_acc=0.9905, time=37s\n",
      "==> Epoch 35: loss=0.00843, val_loss=0.01742, val_acc=0.9887, time=37s\n",
      "==> Epoch 36: loss=0.00843, val_loss=0.01615, val_acc=0.9902, time=37s\n",
      "==> Epoch 37: loss=0.00835, val_loss=0.01705, val_acc=0.9908, time=36s\n",
      "==> Epoch 38: loss=0.00844, val_loss=0.01619, val_acc=0.9917, time=36s\n",
      "best val_acc increased to 0.9917\n",
      "==> Epoch 39: loss=0.00830, val_loss=0.01755, val_acc=0.9889, time=37s\n",
      "==> Epoch 40: loss=0.00827, val_loss=0.01671, val_acc=0.9891, time=36s\n",
      "==> Epoch 41: loss=0.00818, val_loss=0.01657, val_acc=0.9910, time=38s\n",
      "==> Epoch 42: loss=0.00825, val_loss=0.01648, val_acc=0.9904, time=37s\n",
      "==> Epoch 43: loss=0.00815, val_loss=0.01632, val_acc=0.9911, time=37s\n",
      "==> Epoch 44: loss=0.00812, val_loss=0.01661, val_acc=0.9897, time=37s\n",
      "==> Epoch 45: loss=0.00814, val_loss=0.01638, val_acc=0.9906, time=36s\n",
      "==> Epoch 46: loss=0.00816, val_loss=0.01698, val_acc=0.9905, time=36s\n",
      "==> Epoch 47: loss=0.00813, val_loss=0.01662, val_acc=0.9905, time=36s\n",
      "==> Epoch 48: loss=0.00812, val_loss=0.01589, val_acc=0.9900, time=37s\n",
      "==> Epoch 49: loss=0.00808, val_loss=0.01668, val_acc=0.9905, time=36s\n",
      "Trained model saved to 'checkpoints/trained_model.h5'\n",
      "Total time = 1828s\n",
      "End Training----------------------------------------------------------------------\n"
     ]
    }
   ],
   "source": [
    "train(model, trainloader, testloader, args)"
   ]
  },
  {
   "cell_type": "code",
   "execution_count": null,
   "metadata": {},
   "outputs": [],
   "source": []
  }
 ],
 "metadata": {
  "accelerator": "GPU",
  "colab": {
   "collapsed_sections": [],
   "name": "training and testing.ipynb",
   "provenance": []
  },
  "kernelspec": {
   "display_name": "Python [conda env:deeplearning]",
   "language": "python",
   "name": "conda-env-deeplearning-py"
  },
  "language_info": {
   "codemirror_mode": {
    "name": "ipython",
    "version": 3
   },
   "file_extension": ".py",
   "mimetype": "text/x-python",
   "name": "python",
   "nbconvert_exporter": "python",
   "pygments_lexer": "ipython3",
   "version": "3.6.10"
  },
  "toc": {
   "base_numbering": 1,
   "nav_menu": {},
   "number_sections": true,
   "sideBar": true,
   "skip_h1_title": false,
   "title_cell": "Table of Contents",
   "title_sidebar": "Contents",
   "toc_cell": false,
   "toc_position": {},
   "toc_section_display": true,
   "toc_window_display": false
  },
  "widgets": {
   "application/vnd.jupyter.widget-state+json": {
    "00c51ace5138486ba01b627db0c3150d": {
     "model_module": "@jupyter-widgets/controls",
     "model_name": "FloatProgressModel",
     "state": {
      "_dom_classes": [],
      "_model_module": "@jupyter-widgets/controls",
      "_model_module_version": "1.5.0",
      "_model_name": "FloatProgressModel",
      "_view_count": null,
      "_view_module": "@jupyter-widgets/controls",
      "_view_module_version": "1.5.0",
      "_view_name": "ProgressView",
      "bar_style": "success",
      "description": "",
      "description_tooltip": null,
      "layout": "IPY_MODEL_fe5a9f55cbb549a8b2462074a9625380",
      "max": 1,
      "min": 0,
      "orientation": "horizontal",
      "style": "IPY_MODEL_867d6507cc5e415994ecc5bf4ed05834",
      "value": 1
     }
    },
    "02817fd86211447985d12b7e1cf4fa7f": {
     "model_module": "@jupyter-widgets/controls",
     "model_name": "HTMLModel",
     "state": {
      "_dom_classes": [],
      "_model_module": "@jupyter-widgets/controls",
      "_model_module_version": "1.5.0",
      "_model_name": "HTMLModel",
      "_view_count": null,
      "_view_module": "@jupyter-widgets/controls",
      "_view_module_version": "1.5.0",
      "_view_name": "HTMLView",
      "description": "",
      "description_tooltip": null,
      "layout": "IPY_MODEL_948b53a732824f8c88784580e74948e2",
      "placeholder": "​",
      "style": "IPY_MODEL_7d35291c7ae046baa7b931abb6c65e51",
      "value": " 9920512/? [00:20&lt;00:00, 2663597.94it/s]"
     }
    },
    "037b8dd61e6e423bbebf7f416cb1d4d0": {
     "model_module": "@jupyter-widgets/base",
     "model_name": "LayoutModel",
     "state": {
      "_model_module": "@jupyter-widgets/base",
      "_model_module_version": "1.2.0",
      "_model_name": "LayoutModel",
      "_view_count": null,
      "_view_module": "@jupyter-widgets/base",
      "_view_module_version": "1.2.0",
      "_view_name": "LayoutView",
      "align_content": null,
      "align_items": null,
      "align_self": null,
      "border": null,
      "bottom": null,
      "display": null,
      "flex": null,
      "flex_flow": null,
      "grid_area": null,
      "grid_auto_columns": null,
      "grid_auto_flow": null,
      "grid_auto_rows": null,
      "grid_column": null,
      "grid_gap": null,
      "grid_row": null,
      "grid_template_areas": null,
      "grid_template_columns": null,
      "grid_template_rows": null,
      "height": null,
      "justify_content": null,
      "justify_items": null,
      "left": null,
      "margin": null,
      "max_height": null,
      "max_width": null,
      "min_height": null,
      "min_width": null,
      "object_fit": null,
      "object_position": null,
      "order": null,
      "overflow": null,
      "overflow_x": null,
      "overflow_y": null,
      "padding": null,
      "right": null,
      "top": null,
      "visibility": null,
      "width": null
     }
    },
    "0436952541624fd3b3929cd57e30b16c": {
     "model_module": "@jupyter-widgets/base",
     "model_name": "LayoutModel",
     "state": {
      "_model_module": "@jupyter-widgets/base",
      "_model_module_version": "1.2.0",
      "_model_name": "LayoutModel",
      "_view_count": null,
      "_view_module": "@jupyter-widgets/base",
      "_view_module_version": "1.2.0",
      "_view_name": "LayoutView",
      "align_content": null,
      "align_items": null,
      "align_self": null,
      "border": null,
      "bottom": null,
      "display": null,
      "flex": null,
      "flex_flow": null,
      "grid_area": null,
      "grid_auto_columns": null,
      "grid_auto_flow": null,
      "grid_auto_rows": null,
      "grid_column": null,
      "grid_gap": null,
      "grid_row": null,
      "grid_template_areas": null,
      "grid_template_columns": null,
      "grid_template_rows": null,
      "height": null,
      "justify_content": null,
      "justify_items": null,
      "left": null,
      "margin": null,
      "max_height": null,
      "max_width": null,
      "min_height": null,
      "min_width": null,
      "object_fit": null,
      "object_position": null,
      "order": null,
      "overflow": null,
      "overflow_x": null,
      "overflow_y": null,
      "padding": null,
      "right": null,
      "top": null,
      "visibility": null,
      "width": null
     }
    },
    "19ad1601fcb6473e85b49cffe03ae2a6": {
     "model_module": "@jupyter-widgets/base",
     "model_name": "LayoutModel",
     "state": {
      "_model_module": "@jupyter-widgets/base",
      "_model_module_version": "1.2.0",
      "_model_name": "LayoutModel",
      "_view_count": null,
      "_view_module": "@jupyter-widgets/base",
      "_view_module_version": "1.2.0",
      "_view_name": "LayoutView",
      "align_content": null,
      "align_items": null,
      "align_self": null,
      "border": null,
      "bottom": null,
      "display": null,
      "flex": null,
      "flex_flow": null,
      "grid_area": null,
      "grid_auto_columns": null,
      "grid_auto_flow": null,
      "grid_auto_rows": null,
      "grid_column": null,
      "grid_gap": null,
      "grid_row": null,
      "grid_template_areas": null,
      "grid_template_columns": null,
      "grid_template_rows": null,
      "height": null,
      "justify_content": null,
      "justify_items": null,
      "left": null,
      "margin": null,
      "max_height": null,
      "max_width": null,
      "min_height": null,
      "min_width": null,
      "object_fit": null,
      "object_position": null,
      "order": null,
      "overflow": null,
      "overflow_x": null,
      "overflow_y": null,
      "padding": null,
      "right": null,
      "top": null,
      "visibility": null,
      "width": null
     }
    },
    "23b43c0934ed4ef4b97dbc8c2ef27068": {
     "model_module": "@jupyter-widgets/base",
     "model_name": "LayoutModel",
     "state": {
      "_model_module": "@jupyter-widgets/base",
      "_model_module_version": "1.2.0",
      "_model_name": "LayoutModel",
      "_view_count": null,
      "_view_module": "@jupyter-widgets/base",
      "_view_module_version": "1.2.0",
      "_view_name": "LayoutView",
      "align_content": null,
      "align_items": null,
      "align_self": null,
      "border": null,
      "bottom": null,
      "display": null,
      "flex": null,
      "flex_flow": null,
      "grid_area": null,
      "grid_auto_columns": null,
      "grid_auto_flow": null,
      "grid_auto_rows": null,
      "grid_column": null,
      "grid_gap": null,
      "grid_row": null,
      "grid_template_areas": null,
      "grid_template_columns": null,
      "grid_template_rows": null,
      "height": null,
      "justify_content": null,
      "justify_items": null,
      "left": null,
      "margin": null,
      "max_height": null,
      "max_width": null,
      "min_height": null,
      "min_width": null,
      "object_fit": null,
      "object_position": null,
      "order": null,
      "overflow": null,
      "overflow_x": null,
      "overflow_y": null,
      "padding": null,
      "right": null,
      "top": null,
      "visibility": null,
      "width": null
     }
    },
    "2576a04369f241959b413bd00786687c": {
     "model_module": "@jupyter-widgets/controls",
     "model_name": "FloatProgressModel",
     "state": {
      "_dom_classes": [],
      "_model_module": "@jupyter-widgets/controls",
      "_model_module_version": "1.5.0",
      "_model_name": "FloatProgressModel",
      "_view_count": null,
      "_view_module": "@jupyter-widgets/controls",
      "_view_module_version": "1.5.0",
      "_view_name": "ProgressView",
      "bar_style": "info",
      "description": "",
      "description_tooltip": null,
      "layout": "IPY_MODEL_280a2552aa4f40adb77528096bb21142",
      "max": 1,
      "min": 0,
      "orientation": "horizontal",
      "style": "IPY_MODEL_89f42c6b1d2a481bbb9b14d25fe42504",
      "value": 1
     }
    },
    "280a2552aa4f40adb77528096bb21142": {
     "model_module": "@jupyter-widgets/base",
     "model_name": "LayoutModel",
     "state": {
      "_model_module": "@jupyter-widgets/base",
      "_model_module_version": "1.2.0",
      "_model_name": "LayoutModel",
      "_view_count": null,
      "_view_module": "@jupyter-widgets/base",
      "_view_module_version": "1.2.0",
      "_view_name": "LayoutView",
      "align_content": null,
      "align_items": null,
      "align_self": null,
      "border": null,
      "bottom": null,
      "display": null,
      "flex": null,
      "flex_flow": null,
      "grid_area": null,
      "grid_auto_columns": null,
      "grid_auto_flow": null,
      "grid_auto_rows": null,
      "grid_column": null,
      "grid_gap": null,
      "grid_row": null,
      "grid_template_areas": null,
      "grid_template_columns": null,
      "grid_template_rows": null,
      "height": null,
      "justify_content": null,
      "justify_items": null,
      "left": null,
      "margin": null,
      "max_height": null,
      "max_width": null,
      "min_height": null,
      "min_width": null,
      "object_fit": null,
      "object_position": null,
      "order": null,
      "overflow": null,
      "overflow_x": null,
      "overflow_y": null,
      "padding": null,
      "right": null,
      "top": null,
      "visibility": null,
      "width": null
     }
    },
    "2a4ed82ec3b14dd5aeaaf31696d4c089": {
     "model_module": "@jupyter-widgets/controls",
     "model_name": "HBoxModel",
     "state": {
      "_dom_classes": [],
      "_model_module": "@jupyter-widgets/controls",
      "_model_module_version": "1.5.0",
      "_model_name": "HBoxModel",
      "_view_count": null,
      "_view_module": "@jupyter-widgets/controls",
      "_view_module_version": "1.5.0",
      "_view_name": "HBoxView",
      "box_style": "",
      "children": [
       "IPY_MODEL_8ce83ed2cc274d5890a80a150376282e",
       "IPY_MODEL_9740d12401d64a4c83014652e012fbf5"
      ],
      "layout": "IPY_MODEL_23b43c0934ed4ef4b97dbc8c2ef27068"
     }
    },
    "2b468008e4344f89b14d0a41ef1c14c6": {
     "model_module": "@jupyter-widgets/base",
     "model_name": "LayoutModel",
     "state": {
      "_model_module": "@jupyter-widgets/base",
      "_model_module_version": "1.2.0",
      "_model_name": "LayoutModel",
      "_view_count": null,
      "_view_module": "@jupyter-widgets/base",
      "_view_module_version": "1.2.0",
      "_view_name": "LayoutView",
      "align_content": null,
      "align_items": null,
      "align_self": null,
      "border": null,
      "bottom": null,
      "display": null,
      "flex": null,
      "flex_flow": null,
      "grid_area": null,
      "grid_auto_columns": null,
      "grid_auto_flow": null,
      "grid_auto_rows": null,
      "grid_column": null,
      "grid_gap": null,
      "grid_row": null,
      "grid_template_areas": null,
      "grid_template_columns": null,
      "grid_template_rows": null,
      "height": null,
      "justify_content": null,
      "justify_items": null,
      "left": null,
      "margin": null,
      "max_height": null,
      "max_width": null,
      "min_height": null,
      "min_width": null,
      "object_fit": null,
      "object_position": null,
      "order": null,
      "overflow": null,
      "overflow_x": null,
      "overflow_y": null,
      "padding": null,
      "right": null,
      "top": null,
      "visibility": null,
      "width": null
     }
    },
    "3d58b4c672a947f8888dc764d31c61e7": {
     "model_module": "@jupyter-widgets/base",
     "model_name": "LayoutModel",
     "state": {
      "_model_module": "@jupyter-widgets/base",
      "_model_module_version": "1.2.0",
      "_model_name": "LayoutModel",
      "_view_count": null,
      "_view_module": "@jupyter-widgets/base",
      "_view_module_version": "1.2.0",
      "_view_name": "LayoutView",
      "align_content": null,
      "align_items": null,
      "align_self": null,
      "border": null,
      "bottom": null,
      "display": null,
      "flex": null,
      "flex_flow": null,
      "grid_area": null,
      "grid_auto_columns": null,
      "grid_auto_flow": null,
      "grid_auto_rows": null,
      "grid_column": null,
      "grid_gap": null,
      "grid_row": null,
      "grid_template_areas": null,
      "grid_template_columns": null,
      "grid_template_rows": null,
      "height": null,
      "justify_content": null,
      "justify_items": null,
      "left": null,
      "margin": null,
      "max_height": null,
      "max_width": null,
      "min_height": null,
      "min_width": null,
      "object_fit": null,
      "object_position": null,
      "order": null,
      "overflow": null,
      "overflow_x": null,
      "overflow_y": null,
      "padding": null,
      "right": null,
      "top": null,
      "visibility": null,
      "width": null
     }
    },
    "434c06f07cb347fd93f66f6d6126f1fd": {
     "model_module": "@jupyter-widgets/controls",
     "model_name": "HTMLModel",
     "state": {
      "_dom_classes": [],
      "_model_module": "@jupyter-widgets/controls",
      "_model_module_version": "1.5.0",
      "_model_name": "HTMLModel",
      "_view_count": null,
      "_view_module": "@jupyter-widgets/controls",
      "_view_module_version": "1.5.0",
      "_view_name": "HTMLView",
      "description": "",
      "description_tooltip": null,
      "layout": "IPY_MODEL_3d58b4c672a947f8888dc764d31c61e7",
      "placeholder": "​",
      "style": "IPY_MODEL_8b8dcaad2e9a4403b5b483f4272e4525",
      "value": " 8192/? [00:04&lt;00:00, 1840.18it/s]"
     }
    },
    "6d8ff4b544b64a86a303a791b7e5b290": {
     "model_module": "@jupyter-widgets/controls",
     "model_name": "HBoxModel",
     "state": {
      "_dom_classes": [],
      "_model_module": "@jupyter-widgets/controls",
      "_model_module_version": "1.5.0",
      "_model_name": "HBoxModel",
      "_view_count": null,
      "_view_module": "@jupyter-widgets/controls",
      "_view_module_version": "1.5.0",
      "_view_name": "HBoxView",
      "box_style": "",
      "children": [
       "IPY_MODEL_2576a04369f241959b413bd00786687c",
       "IPY_MODEL_02817fd86211447985d12b7e1cf4fa7f"
      ],
      "layout": "IPY_MODEL_19ad1601fcb6473e85b49cffe03ae2a6"
     }
    },
    "79ba276040f74fc380e55c7bbec70ed9": {
     "model_module": "@jupyter-widgets/base",
     "model_name": "LayoutModel",
     "state": {
      "_model_module": "@jupyter-widgets/base",
      "_model_module_version": "1.2.0",
      "_model_name": "LayoutModel",
      "_view_count": null,
      "_view_module": "@jupyter-widgets/base",
      "_view_module_version": "1.2.0",
      "_view_name": "LayoutView",
      "align_content": null,
      "align_items": null,
      "align_self": null,
      "border": null,
      "bottom": null,
      "display": null,
      "flex": null,
      "flex_flow": null,
      "grid_area": null,
      "grid_auto_columns": null,
      "grid_auto_flow": null,
      "grid_auto_rows": null,
      "grid_column": null,
      "grid_gap": null,
      "grid_row": null,
      "grid_template_areas": null,
      "grid_template_columns": null,
      "grid_template_rows": null,
      "height": null,
      "justify_content": null,
      "justify_items": null,
      "left": null,
      "margin": null,
      "max_height": null,
      "max_width": null,
      "min_height": null,
      "min_width": null,
      "object_fit": null,
      "object_position": null,
      "order": null,
      "overflow": null,
      "overflow_x": null,
      "overflow_y": null,
      "padding": null,
      "right": null,
      "top": null,
      "visibility": null,
      "width": null
     }
    },
    "7d35291c7ae046baa7b931abb6c65e51": {
     "model_module": "@jupyter-widgets/controls",
     "model_name": "DescriptionStyleModel",
     "state": {
      "_model_module": "@jupyter-widgets/controls",
      "_model_module_version": "1.5.0",
      "_model_name": "DescriptionStyleModel",
      "_view_count": null,
      "_view_module": "@jupyter-widgets/base",
      "_view_module_version": "1.2.0",
      "_view_name": "StyleView",
      "description_width": ""
     }
    },
    "867d6507cc5e415994ecc5bf4ed05834": {
     "model_module": "@jupyter-widgets/controls",
     "model_name": "ProgressStyleModel",
     "state": {
      "_model_module": "@jupyter-widgets/controls",
      "_model_module_version": "1.5.0",
      "_model_name": "ProgressStyleModel",
      "_view_count": null,
      "_view_module": "@jupyter-widgets/base",
      "_view_module_version": "1.2.0",
      "_view_name": "StyleView",
      "bar_color": null,
      "description_width": "initial"
     }
    },
    "89f42c6b1d2a481bbb9b14d25fe42504": {
     "model_module": "@jupyter-widgets/controls",
     "model_name": "ProgressStyleModel",
     "state": {
      "_model_module": "@jupyter-widgets/controls",
      "_model_module_version": "1.5.0",
      "_model_name": "ProgressStyleModel",
      "_view_count": null,
      "_view_module": "@jupyter-widgets/base",
      "_view_module_version": "1.2.0",
      "_view_name": "StyleView",
      "bar_color": null,
      "description_width": "initial"
     }
    },
    "8b8dcaad2e9a4403b5b483f4272e4525": {
     "model_module": "@jupyter-widgets/controls",
     "model_name": "DescriptionStyleModel",
     "state": {
      "_model_module": "@jupyter-widgets/controls",
      "_model_module_version": "1.5.0",
      "_model_name": "DescriptionStyleModel",
      "_view_count": null,
      "_view_module": "@jupyter-widgets/base",
      "_view_module_version": "1.2.0",
      "_view_name": "StyleView",
      "description_width": ""
     }
    },
    "8cab1d55ae5f4ef58d3f9c052954069b": {
     "model_module": "@jupyter-widgets/controls",
     "model_name": "FloatProgressModel",
     "state": {
      "_dom_classes": [],
      "_model_module": "@jupyter-widgets/controls",
      "_model_module_version": "1.5.0",
      "_model_name": "FloatProgressModel",
      "_view_count": null,
      "_view_module": "@jupyter-widgets/controls",
      "_view_module_version": "1.5.0",
      "_view_name": "ProgressView",
      "bar_style": "success",
      "description": "",
      "description_tooltip": null,
      "layout": "IPY_MODEL_037b8dd61e6e423bbebf7f416cb1d4d0",
      "max": 1,
      "min": 0,
      "orientation": "horizontal",
      "style": "IPY_MODEL_b7e1e67db68040d7b642732dd1945330",
      "value": 1
     }
    },
    "8ce83ed2cc274d5890a80a150376282e": {
     "model_module": "@jupyter-widgets/controls",
     "model_name": "FloatProgressModel",
     "state": {
      "_dom_classes": [],
      "_model_module": "@jupyter-widgets/controls",
      "_model_module_version": "1.5.0",
      "_model_name": "FloatProgressModel",
      "_view_count": null,
      "_view_module": "@jupyter-widgets/controls",
      "_view_module_version": "1.5.0",
      "_view_name": "ProgressView",
      "bar_style": "success",
      "description": "",
      "description_tooltip": null,
      "layout": "IPY_MODEL_ea44d9bbb90b44dc8474011a5520d338",
      "max": 1,
      "min": 0,
      "orientation": "horizontal",
      "style": "IPY_MODEL_e0e816429c7c4781b797ae78d4dced9b",
      "value": 1
     }
    },
    "948b53a732824f8c88784580e74948e2": {
     "model_module": "@jupyter-widgets/base",
     "model_name": "LayoutModel",
     "state": {
      "_model_module": "@jupyter-widgets/base",
      "_model_module_version": "1.2.0",
      "_model_name": "LayoutModel",
      "_view_count": null,
      "_view_module": "@jupyter-widgets/base",
      "_view_module_version": "1.2.0",
      "_view_name": "LayoutView",
      "align_content": null,
      "align_items": null,
      "align_self": null,
      "border": null,
      "bottom": null,
      "display": null,
      "flex": null,
      "flex_flow": null,
      "grid_area": null,
      "grid_auto_columns": null,
      "grid_auto_flow": null,
      "grid_auto_rows": null,
      "grid_column": null,
      "grid_gap": null,
      "grid_row": null,
      "grid_template_areas": null,
      "grid_template_columns": null,
      "grid_template_rows": null,
      "height": null,
      "justify_content": null,
      "justify_items": null,
      "left": null,
      "margin": null,
      "max_height": null,
      "max_width": null,
      "min_height": null,
      "min_width": null,
      "object_fit": null,
      "object_position": null,
      "order": null,
      "overflow": null,
      "overflow_x": null,
      "overflow_y": null,
      "padding": null,
      "right": null,
      "top": null,
      "visibility": null,
      "width": null
     }
    },
    "9740d12401d64a4c83014652e012fbf5": {
     "model_module": "@jupyter-widgets/controls",
     "model_name": "HTMLModel",
     "state": {
      "_dom_classes": [],
      "_model_module": "@jupyter-widgets/controls",
      "_model_module_version": "1.5.0",
      "_model_name": "HTMLModel",
      "_view_count": null,
      "_view_module": "@jupyter-widgets/controls",
      "_view_module_version": "1.5.0",
      "_view_name": "HTMLView",
      "description": "",
      "description_tooltip": null,
      "layout": "IPY_MODEL_2b468008e4344f89b14d0a41ef1c14c6",
      "placeholder": "​",
      "style": "IPY_MODEL_dbd76951fa5143d09c3172fbb6c3166e",
      "value": " 32768/? [00:05&lt;00:00, 6132.98it/s]"
     }
    },
    "b7e1e67db68040d7b642732dd1945330": {
     "model_module": "@jupyter-widgets/controls",
     "model_name": "ProgressStyleModel",
     "state": {
      "_model_module": "@jupyter-widgets/controls",
      "_model_module_version": "1.5.0",
      "_model_name": "ProgressStyleModel",
      "_view_count": null,
      "_view_module": "@jupyter-widgets/base",
      "_view_module_version": "1.2.0",
      "_view_name": "StyleView",
      "bar_color": null,
      "description_width": "initial"
     }
    },
    "b8b4bc0ac8724c7da9738ae010c84cf3": {
     "model_module": "@jupyter-widgets/controls",
     "model_name": "HTMLModel",
     "state": {
      "_dom_classes": [],
      "_model_module": "@jupyter-widgets/controls",
      "_model_module_version": "1.5.0",
      "_model_name": "HTMLModel",
      "_view_count": null,
      "_view_module": "@jupyter-widgets/controls",
      "_view_module_version": "1.5.0",
      "_view_name": "HTMLView",
      "description": "",
      "description_tooltip": null,
      "layout": "IPY_MODEL_0436952541624fd3b3929cd57e30b16c",
      "placeholder": "​",
      "style": "IPY_MODEL_d25ae3adf8c146ebb035854cf4b61698",
      "value": " 1654784/? [00:04&lt;00:00, 342558.46it/s]"
     }
    },
    "c6a2b1e2c6cc4abd827f7f1fa05d554c": {
     "model_module": "@jupyter-widgets/base",
     "model_name": "LayoutModel",
     "state": {
      "_model_module": "@jupyter-widgets/base",
      "_model_module_version": "1.2.0",
      "_model_name": "LayoutModel",
      "_view_count": null,
      "_view_module": "@jupyter-widgets/base",
      "_view_module_version": "1.2.0",
      "_view_name": "LayoutView",
      "align_content": null,
      "align_items": null,
      "align_self": null,
      "border": null,
      "bottom": null,
      "display": null,
      "flex": null,
      "flex_flow": null,
      "grid_area": null,
      "grid_auto_columns": null,
      "grid_auto_flow": null,
      "grid_auto_rows": null,
      "grid_column": null,
      "grid_gap": null,
      "grid_row": null,
      "grid_template_areas": null,
      "grid_template_columns": null,
      "grid_template_rows": null,
      "height": null,
      "justify_content": null,
      "justify_items": null,
      "left": null,
      "margin": null,
      "max_height": null,
      "max_width": null,
      "min_height": null,
      "min_width": null,
      "object_fit": null,
      "object_position": null,
      "order": null,
      "overflow": null,
      "overflow_x": null,
      "overflow_y": null,
      "padding": null,
      "right": null,
      "top": null,
      "visibility": null,
      "width": null
     }
    },
    "d25ae3adf8c146ebb035854cf4b61698": {
     "model_module": "@jupyter-widgets/controls",
     "model_name": "DescriptionStyleModel",
     "state": {
      "_model_module": "@jupyter-widgets/controls",
      "_model_module_version": "1.5.0",
      "_model_name": "DescriptionStyleModel",
      "_view_count": null,
      "_view_module": "@jupyter-widgets/base",
      "_view_module_version": "1.2.0",
      "_view_name": "StyleView",
      "description_width": ""
     }
    },
    "dbd76951fa5143d09c3172fbb6c3166e": {
     "model_module": "@jupyter-widgets/controls",
     "model_name": "DescriptionStyleModel",
     "state": {
      "_model_module": "@jupyter-widgets/controls",
      "_model_module_version": "1.5.0",
      "_model_name": "DescriptionStyleModel",
      "_view_count": null,
      "_view_module": "@jupyter-widgets/base",
      "_view_module_version": "1.2.0",
      "_view_name": "StyleView",
      "description_width": ""
     }
    },
    "e0e816429c7c4781b797ae78d4dced9b": {
     "model_module": "@jupyter-widgets/controls",
     "model_name": "ProgressStyleModel",
     "state": {
      "_model_module": "@jupyter-widgets/controls",
      "_model_module_version": "1.5.0",
      "_model_name": "ProgressStyleModel",
      "_view_count": null,
      "_view_module": "@jupyter-widgets/base",
      "_view_module_version": "1.2.0",
      "_view_name": "StyleView",
      "bar_color": null,
      "description_width": "initial"
     }
    },
    "ea44d9bbb90b44dc8474011a5520d338": {
     "model_module": "@jupyter-widgets/base",
     "model_name": "LayoutModel",
     "state": {
      "_model_module": "@jupyter-widgets/base",
      "_model_module_version": "1.2.0",
      "_model_name": "LayoutModel",
      "_view_count": null,
      "_view_module": "@jupyter-widgets/base",
      "_view_module_version": "1.2.0",
      "_view_name": "LayoutView",
      "align_content": null,
      "align_items": null,
      "align_self": null,
      "border": null,
      "bottom": null,
      "display": null,
      "flex": null,
      "flex_flow": null,
      "grid_area": null,
      "grid_auto_columns": null,
      "grid_auto_flow": null,
      "grid_auto_rows": null,
      "grid_column": null,
      "grid_gap": null,
      "grid_row": null,
      "grid_template_areas": null,
      "grid_template_columns": null,
      "grid_template_rows": null,
      "height": null,
      "justify_content": null,
      "justify_items": null,
      "left": null,
      "margin": null,
      "max_height": null,
      "max_width": null,
      "min_height": null,
      "min_width": null,
      "object_fit": null,
      "object_position": null,
      "order": null,
      "overflow": null,
      "overflow_x": null,
      "overflow_y": null,
      "padding": null,
      "right": null,
      "top": null,
      "visibility": null,
      "width": null
     }
    },
    "f115e9cb93cc49f5a065632cda661157": {
     "model_module": "@jupyter-widgets/controls",
     "model_name": "HBoxModel",
     "state": {
      "_dom_classes": [],
      "_model_module": "@jupyter-widgets/controls",
      "_model_module_version": "1.5.0",
      "_model_name": "HBoxModel",
      "_view_count": null,
      "_view_module": "@jupyter-widgets/controls",
      "_view_module_version": "1.5.0",
      "_view_name": "HBoxView",
      "box_style": "",
      "children": [
       "IPY_MODEL_8cab1d55ae5f4ef58d3f9c052954069b",
       "IPY_MODEL_b8b4bc0ac8724c7da9738ae010c84cf3"
      ],
      "layout": "IPY_MODEL_c6a2b1e2c6cc4abd827f7f1fa05d554c"
     }
    },
    "f6b0227213644a9ab6f4792d607c5d04": {
     "model_module": "@jupyter-widgets/controls",
     "model_name": "HBoxModel",
     "state": {
      "_dom_classes": [],
      "_model_module": "@jupyter-widgets/controls",
      "_model_module_version": "1.5.0",
      "_model_name": "HBoxModel",
      "_view_count": null,
      "_view_module": "@jupyter-widgets/controls",
      "_view_module_version": "1.5.0",
      "_view_name": "HBoxView",
      "box_style": "",
      "children": [
       "IPY_MODEL_00c51ace5138486ba01b627db0c3150d",
       "IPY_MODEL_434c06f07cb347fd93f66f6d6126f1fd"
      ],
      "layout": "IPY_MODEL_79ba276040f74fc380e55c7bbec70ed9"
     }
    },
    "fe5a9f55cbb549a8b2462074a9625380": {
     "model_module": "@jupyter-widgets/base",
     "model_name": "LayoutModel",
     "state": {
      "_model_module": "@jupyter-widgets/base",
      "_model_module_version": "1.2.0",
      "_model_name": "LayoutModel",
      "_view_count": null,
      "_view_module": "@jupyter-widgets/base",
      "_view_module_version": "1.2.0",
      "_view_name": "LayoutView",
      "align_content": null,
      "align_items": null,
      "align_self": null,
      "border": null,
      "bottom": null,
      "display": null,
      "flex": null,
      "flex_flow": null,
      "grid_area": null,
      "grid_auto_columns": null,
      "grid_auto_flow": null,
      "grid_auto_rows": null,
      "grid_column": null,
      "grid_gap": null,
      "grid_row": null,
      "grid_template_areas": null,
      "grid_template_columns": null,
      "grid_template_rows": null,
      "height": null,
      "justify_content": null,
      "justify_items": null,
      "left": null,
      "margin": null,
      "max_height": null,
      "max_width": null,
      "min_height": null,
      "min_width": null,
      "object_fit": null,
      "object_position": null,
      "order": null,
      "overflow": null,
      "overflow_x": null,
      "overflow_y": null,
      "padding": null,
      "right": null,
      "top": null,
      "visibility": null,
      "width": null
     }
    }
   }
  }
 },
 "nbformat": 4,
 "nbformat_minor": 1
}
